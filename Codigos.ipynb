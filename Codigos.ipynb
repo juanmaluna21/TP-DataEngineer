{
 "cells": [
  {
   "cell_type": "code",
   "execution_count": null,
   "metadata": {},
   "outputs": [],
   "source": [
    "# codigo de Mario\n",
    "# string_columns = [column for column in df_amazon.columns if df_amazon[column].dtype == 'object']\n",
    "# df_amazon[string_columns] = df_amazon.loc[:,string_columns].apply(lambda x: x.str.lower())\n",
    "# codigo de David\n",
    "# df_amazon = df_amazon.apply(lambda x: x.str.lower() if x.dtype == 'object' else x)"
   ]
  },
  {
   "cell_type": "code",
   "execution_count": null,
   "metadata": {},
   "outputs": [],
   "source": [
    "import pandas as pd"
   ]
  },
  {
   "cell_type": "code",
   "execution_count": null,
   "metadata": {},
   "outputs": [],
   "source": [
    "def transformacion (df,letras):\n",
    "    df.rename(columns={'show_id':'id'},inplace= True) # renombro la columna \"show_id\" a \"id\"\n",
    "    df['id'] = [letras + elemento for elemento in df['id']] # agrego la letra correspodiente\n",
    "    df.set_index('id',inplace=True) # asigno a la columna \"id\" como indice\n",
    "    df['rating'].fillna('G',inplace=True) # relleno los valores NaN de la columna \"rating\" con \"G\"\n",
    "    df['date_added']= pd.to_datetime(df['date_added']) #cambio el formato de las fechas\n",
    "    string_columns = [column for column in df.columns if df[column].dtype == 'object'] #elijo cual de las columnas es de tipo 'object'\n",
    "    df[string_columns] = df.loc[:,string_columns].apply(lambda x: x.str.lower()) # transformo en minusculas a las columnas de tipo object\n",
    "    df['duration'].fillna ('NaN NaN', inplace=True) #reemplazo el los valores faltantes de la columna duration por \"NaN NaN\" con el fin de poder dividirla depues\n",
    "    duracion = df['duration'].str.split() #separo la columna \"duration\" en 2\n",
    "    duration_int = [i[0] for i in duracion] # asigno los primeros valores a \"duration_int\"\n",
    "    duration_type= [i[1] for i in duracion] # asigno los primeros valores a \"duration_type\"\n",
    "    df.insert(9,'duration_int',duration_int) # inserto la columna \"duration_int\"\n",
    "    df.insert(10,'duration_type',duration_type) # inserto la columna \"duration_type\"\n",
    "    df.drop(columns= 'duration', inplace= True) # elimino la columna duration\n",
    "    df['duration_type'].replace('seasons','season', inplace=True) # corrijo los valores \"seasons\" por \"season\" para tener un solo valor y facilite la busqueda\n",
    "    return df"
   ]
  },
  {
   "cell_type": "code",
   "execution_count": null,
   "metadata": {},
   "outputs": [],
   "source": [
    "# Importación de archivos\n",
    "df_disney = pd.read_csv (r'Datasets/disney_plus_titles-score.csv', encoding= 'UTF-8')\n",
    "df_amazon = pd.read_csv (r'Datasets/amazon_prime_titles-score.csv', encoding= 'UTF-8')\n",
    "df_hulu = pd.read_csv (r'Datasets/hulu_titles-score (2).csv', encoding= 'UTF-8')\n",
    "df_netflix = pd.read_csv (r'Datasets/netflix_titles-score.csv', encoding= 'UTF-8')"
   ]
  },
  {
   "cell_type": "code",
   "execution_count": null,
   "metadata": {},
   "outputs": [],
   "source": [
    "# Aplicación de cambios\n",
    "df_amazon = transformacion (df_amazon,'a')\n",
    "df_disney = transformacion (df_disney,'d')\n",
    "df_hulu = transformacion (df_hulu,'h')\n",
    "df_netflix = transformacion (df_netflix,'n')\n",
    "# Dataframe final para consultas\n",
    "df_final = pd.concat([df_amazon,df_disney,df_hulu,df_netflix],axis=1)"
   ]
  },
  {
   "cell_type": "code",
   "execution_count": 16,
   "metadata": {},
   "outputs": [],
   "source": [
    "df_final.to_csv('df_final.to_csv')"
   ]
  },
  {
   "cell_type": "code",
   "execution_count": null,
   "metadata": {},
   "outputs": [],
   "source": [
    "# 1) Cantidad de veces que aparece una keyword en el título de peliculas/series, por plataforma\n",
    "def cantidad_keyword (data_frame, keyword):\n",
    "    contador = 0\n",
    "    lista = []\n",
    "    for palabra in data_frame.title:\n",
    "        palabra = palabra.split()\n",
    "        for elemento in palabra:\n",
    "            lista.append(elemento)\n",
    "    contador = lista.count(keyword)\n",
    "    return contador\n",
    "\n",
    "# 2) Cantidad de películas por plataforma con un puntaje mayor a XX en determinado año\n",
    "def cantidad_peliculas_puntaje (data_frame, anio, puntaje):\n",
    "    return len(data_frame[(data_frame['date_added'].dt.year== anio) & (data_frame['score'] >= puntaje)].value_counts())\n",
    "\n",
    "# 3)) Segunda película con mayor score para una plataforma determinada, según el orden alfabético de los títulos\n",
    "def segundo_maximo (data_frame):\n",
    "    return data_frame[data_frame['score']==data_frame['score'].max()].sort_values(by=['title']).iloc[1]\n",
    "\n",
    "# 4) Película que más duró según año, plataforma y tipo de duración\n",
    "def mas_duracion (data_frame, tipo):\n",
    "    return data_frame[data_frame['duration_type']== tipo].sort_values(by= ['duration_int']).iloc[-1]\n",
    "\n",
    "# 5) Cantidad de series y películas por rating\n",
    "def cantidad_series_peliculas (data_frame):\n",
    "    return data_frame['rating'].value_counts()"
   ]
  },
  {
   "cell_type": "code",
   "execution_count": null,
   "metadata": {},
   "outputs": [],
   "source": [
    "cantidad_keyword (df_amazon, 'johnson')\n",
    "cantidad_peliculas_puntaje (df_amazon, 2021, 30)\n",
    "segundo_maximo (df_amazon)\n",
    "mas_duracion (df_amazon,'season')\n",
    "cantidad_series_peliculas (df_amazon) "
   ]
  }
 ],
 "metadata": {
  "kernelspec": {
   "display_name": "base",
   "language": "python",
   "name": "python3"
  },
  "language_info": {
   "codemirror_mode": {
    "name": "ipython",
    "version": 3
   },
   "file_extension": ".py",
   "mimetype": "text/x-python",
   "name": "python",
   "nbconvert_exporter": "python",
   "pygments_lexer": "ipython3",
   "version": "3.9.13"
  },
  "orig_nbformat": 4,
  "vscode": {
   "interpreter": {
    "hash": "867ee3aba3a1ee4c39289aad3dd280d6cb657b7b85899d5a50b421fd665196b4"
   }
  }
 },
 "nbformat": 4,
 "nbformat_minor": 2
}
